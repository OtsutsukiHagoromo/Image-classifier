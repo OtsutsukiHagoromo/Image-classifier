{
 "cells": [
  {
   "cell_type": "code",
   "execution_count": 138,
   "metadata": {
    "collapsed": true
   },
   "outputs": [],
   "source": [
    "#importing necessary lib\n",
    "import pandas as pd\n",
    "import numpy as np\n",
    "import cv2\n",
    "import glob\n",
    "from keras.models import Sequential\n",
    "from keras.layers import Dense\n",
    "from keras.utils import to_categorical\n",
    "from keras.callbacks import EarlyStopping\n",
    "from sklearn.ensemble import RandomForestClassifier\n",
    "from sklearn.metrics import accuracy_score"
   ]
  },
  {
   "cell_type": "code",
   "execution_count": 139,
   "metadata": {
    "collapsed": true
   },
   "outputs": [],
   "source": [
    "#loading training image files\n",
    "imagelist_train_anim = glob.glob(\"animated_vs_realistic/trainset/animated/*.jpg\")\n",
    "imagelist_train_real = glob.glob(\"animated_vs_realistic/trainset/realistic/*.jpg\")\n",
    "new_list = glob.glob(\"animated_vs_realistic/new/*.jpg\")"
   ]
  },
  {
   "cell_type": "code",
   "execution_count": 124,
   "metadata": {
    "collapsed": true
   },
   "outputs": [],
   "source": [
    "#loading test image files\n",
    "imagelist_test_anim = glob.glob(\"animated_vs_realistic/testset/animated/*.jpg\")\n",
    "imagelist_test_real = glob.glob(\"animated_vs_realistic/testset/realistic//*.jpg\")"
   ]
  },
  {
   "cell_type": "code",
   "execution_count": 125,
   "metadata": {
    "collapsed": true
   },
   "outputs": [],
   "source": [
    "#function for preparing real image data\n",
    "def load_real_img(filelist, size=(32, 32)):\n",
    "    list1 = []\n",
    "    for file in filelist:\n",
    "        img = cv2.imread(file, 0)\n",
    "        img = cv2.resize(img, size).flatten()\n",
    "        img = img/255\n",
    "        img = np.insert(img, 0, 1)\n",
    "        list1.append(img)\n",
    "    return list1"
   ]
  },
  {
   "cell_type": "code",
   "execution_count": 126,
   "metadata": {
    "collapsed": true
   },
   "outputs": [],
   "source": [
    "#function for preparing anim image data\n",
    "def load_anim_img(filelist, size=(32, 32)):\n",
    "    list2 = []\n",
    "    for file in filelist:\n",
    "        img = cv2.imread(file, 0)\n",
    "        img = cv2.resize(img, size).flatten()\n",
    "        img = img/255\n",
    "        img = np.insert(img, 0, 0)\n",
    "        list2.append(img)\n",
    "    return list2"
   ]
  },
  {
   "cell_type": "code",
   "execution_count": 127,
   "metadata": {
    "collapsed": true
   },
   "outputs": [],
   "source": [
    "#joining real and animated data to prepare dataset\n",
    "def join(l1, l2):\n",
    "    l = np.concatenate((l1,l2))\n",
    "    return l"
   ]
  },
  {
   "cell_type": "code",
   "execution_count": 128,
   "metadata": {
    "collapsed": true
   },
   "outputs": [
    {
     "data": {
      "text/plain": [
       "array([[ 1.        ,  0.85882353,  0.8627451 , ...,  0.81960784,\n",
       "         0.83921569,  0.82745098],\n",
       "       [ 1.        ,  0.94509804,  0.94901961, ...,  0.4745098 ,\n",
       "         0.51372549,  0.77254902],\n",
       "       [ 1.        ,  0.58823529,  0.60392157, ...,  0.87843137,\n",
       "         0.55686275,  0.54901961],\n",
       "       ..., \n",
       "       [ 0.        ,  0.        ,  0.00392157, ...,  0.        ,\n",
       "         0.        ,  0.        ],\n",
       "       [ 0.        ,  0.44705882,  0.29019608, ...,  0.        ,\n",
       "         0.        ,  0.        ],\n",
       "       [ 0.        ,  0.28235294,  0.28235294, ...,  0.28235294,\n",
       "         0.28235294,  0.28235294]])"
      ]
     },
     "execution_count": 128,
     "metadata": {},
     "output_type": "execute_result"
    }
   ],
   "source": [
    "#preparing training data\n",
    "real  = load_real_img(imagelist_train_real)\n",
    "anim = load_anim_img(imagelist_train_anim)\n",
    "train_data = join(real, anim)\n",
    "train_data"
   ]
  },
  {
   "cell_type": "code",
   "execution_count": 129,
   "metadata": {
    "collapsed": true
   },
   "outputs": [
    {
     "data": {
      "text/plain": [
       "array([[ 0.85882353,  0.8627451 ,  0.87058824, ...,  0.81960784,\n",
       "         0.83921569,  0.82745098],\n",
       "       [ 0.94509804,  0.94901961,  0.94901961, ...,  0.4745098 ,\n",
       "         0.51372549,  0.77254902],\n",
       "       [ 0.58823529,  0.60392157,  0.61960784, ...,  0.87843137,\n",
       "         0.55686275,  0.54901961],\n",
       "       ..., \n",
       "       [ 0.        ,  0.00392157,  0.        , ...,  0.        ,\n",
       "         0.        ,  0.        ],\n",
       "       [ 0.44705882,  0.29019608,  0.25882353, ...,  0.        ,\n",
       "         0.        ,  0.        ],\n",
       "       [ 0.28235294,  0.28235294,  0.28235294, ...,  0.28235294,\n",
       "         0.28235294,  0.28235294]])"
      ]
     },
     "execution_count": 129,
     "metadata": {},
     "output_type": "execute_result"
    }
   ],
   "source": [
    "#training feature selection\n",
    "data = np.delete(train_data, 0, axis=1)\n",
    "data"
   ]
  },
  {
   "cell_type": "code",
   "execution_count": 130,
   "metadata": {
    "collapsed": true
   },
   "outputs": [],
   "source": [
    "#training label extraction\n",
    "label = train_data[:,0]"
   ]
  },
  {
   "cell_type": "code",
   "execution_count": 131,
   "metadata": {
    "collapsed": true
   },
   "outputs": [
    {
     "data": {
      "text/plain": [
       "(18, 1025)"
      ]
     },
     "execution_count": 131,
     "metadata": {},
     "output_type": "execute_result"
    }
   ],
   "source": [
    "#preparing test data\n",
    "real_test = load_real_img(imagelist_test_real)\n",
    "anim_test = load_anim_img(imagelist_train_anim)\n",
    "test_data = join(real_test, anim_test)\n",
    "test_data.shape"
   ]
  },
  {
   "cell_type": "code",
   "execution_count": 132,
   "metadata": {
    "collapsed": true
   },
   "outputs": [
    {
     "data": {
      "text/plain": [
       "(18, 1024)"
      ]
     },
     "execution_count": 132,
     "metadata": {},
     "output_type": "execute_result"
    }
   ],
   "source": [
    "#test feature selection\n",
    "test_data_new = np.delete(test_data, 0, axis = 1)\n",
    "test_data_new.shape"
   ]
  },
  {
   "cell_type": "code",
   "execution_count": 133,
   "metadata": {
    "collapsed": true
   },
   "outputs": [],
   "source": [
    "#test label extraction\n",
    "test_label = test_data[:,0]"
   ]
  },
  {
   "cell_type": "code",
   "execution_count": 134,
   "metadata": {
    "collapsed": true
   },
   "outputs": [],
   "source": [
    "rf  =  RandomForestClassifier(max_depth= 5, n_estimators= 1100, criterion= \"entropy\")"
   ]
  },
  {
   "cell_type": "code",
   "execution_count": 135,
   "metadata": {
    "collapsed": true
   },
   "outputs": [
    {
     "data": {
      "text/plain": [
       "RandomForestClassifier(bootstrap=True, class_weight=None, criterion='entropy',\n",
       "            max_depth=5, max_features='auto', max_leaf_nodes=None,\n",
       "            min_impurity_decrease=0.0, min_impurity_split=None,\n",
       "            min_samples_leaf=1, min_samples_split=2,\n",
       "            min_weight_fraction_leaf=0.0, n_estimators=1100, n_jobs=1,\n",
       "            oob_score=False, random_state=None, verbose=0,\n",
       "            warm_start=False)"
      ]
     },
     "execution_count": 135,
     "metadata": {},
     "output_type": "execute_result"
    }
   ],
   "source": [
    "rf.fit(data, label)"
   ]
  },
  {
   "cell_type": "code",
   "execution_count": 136,
   "metadata": {
    "collapsed": true
   },
   "outputs": [],
   "source": [
    "pred  = rf.predict(test_data_new)"
   ]
  },
  {
   "cell_type": "code",
   "execution_count": 137,
   "metadata": {},
   "outputs": [
    {
     "data": {
      "text/plain": [
       "0.88888888888888884"
      ]
     },
     "execution_count": 137,
     "metadata": {},
     "output_type": "execute_result"
    }
   ],
   "source": [
    "accuracy_score(test_label, pred)"
   ]
  },
  {
   "cell_type": "code",
   "execution_count": 141,
   "metadata": {
    "collapsed": true
   },
   "outputs": [],
   "source": [
    "new = load_anim_img(new_list)\n",
    "newww = np.delete(new, 0, axis=1)"
   ]
  },
  {
   "cell_type": "code",
   "execution_count": 144,
   "metadata": {
    "collapsed": true
   },
   "outputs": [],
   "source": [
    "aaaa = rf.predict(newww)"
   ]
  },
  {
   "cell_type": "code",
   "execution_count": 145,
   "metadata": {},
   "outputs": [
    {
     "data": {
      "text/plain": [
       "array([ 0.,  0.,  0.,  1.,  0.,  0.])"
      ]
     },
     "execution_count": 145,
     "metadata": {},
     "output_type": "execute_result"
    }
   ],
   "source": [
    "aaaa"
   ]
  },
  {
   "cell_type": "code",
   "execution_count": 146,
   "metadata": {},
   "outputs": [
    {
     "data": {
      "text/plain": [
       "['animated_vs_realistic/new\\\\55351c797f0f2edb3b8686a3e81c996a--animation-style-gif-animation.jpg',\n",
       " 'animated_vs_realistic/new\\\\Animation-Wallpaper-23-1.jpg',\n",
       " 'animated_vs_realistic/new\\\\download (1).jpg',\n",
       " 'animated_vs_realistic/new\\\\download.jpg',\n",
       " 'animated_vs_realistic/new\\\\images (1).jpg',\n",
       " 'animated_vs_realistic/new\\\\images.jpg']"
      ]
     },
     "execution_count": 146,
     "metadata": {},
     "output_type": "execute_result"
    }
   ],
   "source": [
    "new_list"
   ]
  },
  {
   "cell_type": "code",
   "execution_count": null,
   "metadata": {
    "collapsed": true
   },
   "outputs": [],
   "source": []
  }
 ],
 "metadata": {
  "kernelspec": {
   "display_name": "Python 3",
   "language": "python",
   "name": "python3"
  },
  "language_info": {
   "codemirror_mode": {
    "name": "ipython",
    "version": 3
   },
   "file_extension": ".py",
   "mimetype": "text/x-python",
   "name": "python",
   "nbconvert_exporter": "python",
   "pygments_lexer": "ipython3",
   "version": "3.6.3"
  }
 },
 "nbformat": 4,
 "nbformat_minor": 2
}
